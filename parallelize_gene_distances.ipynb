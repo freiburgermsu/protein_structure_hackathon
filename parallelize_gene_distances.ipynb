{
 "cells": [
  {
   "cell_type": "markdown",
   "id": "3e83fba1-3a0d-4e22-8826-06a8b6870b60",
   "metadata": {},
   "source": [
    "# Define an arbitrary nested loop"
   ]
  },
  {
   "cell_type": "code",
   "execution_count": 8,
   "id": "8339035c-4869-4c61-b82b-af1ffb343e17",
   "metadata": {},
   "outputs": [],
   "source": [
    "def loop():\n",
    "    dic = {}\n",
    "    for i in range(10000):\n",
    "        dic[i] = {}\n",
    "        for j in range(10000):\n",
    "            dic[i][j] = i*j\n",
    "        print(i, end=\"\\r\")"
   ]
  },
  {
   "cell_type": "code",
   "execution_count": 9,
   "id": "acc04b11-5809-4717-8a0f-df3872b2197c",
   "metadata": {},
   "outputs": [
    {
     "name": "stdout",
     "output_type": "stream",
     "text": [
      "CPU times: total: 36.3 s\n",
      "Wall time: 48.7 s\n"
     ]
    }
   ],
   "source": [
    "%time loop()"
   ]
  },
  {
   "cell_type": "code",
   "execution_count": 1,
   "id": "a9bd7487-d3bc-479e-b838-833dafbf06d5",
   "metadata": {},
   "outputs": [],
   "source": [
    "from mpi4py import MPI\n",
    "comm = MPI.COMM_WORLD\n",
    "rank = comm.Get_rank()\n",
    "size = comm.Get_size()"
   ]
  },
  {
   "cell_type": "code",
   "execution_count": 2,
   "id": "e58d6ccc-fed6-4ee2-a25b-00ed1af61ec9",
   "metadata": {},
   "outputs": [
    {
     "data": {
      "text/plain": [
       "0"
      ]
     },
     "execution_count": 2,
     "metadata": {},
     "output_type": "execute_result"
    }
   ],
   "source": [
    "rank"
   ]
  },
  {
   "cell_type": "code",
   "execution_count": 3,
   "id": "a4e9e6b4-19e3-4027-b92c-9395513de65d",
   "metadata": {},
   "outputs": [
    {
     "data": {
      "text/plain": [
       "1"
      ]
     },
     "execution_count": 3,
     "metadata": {},
     "output_type": "execute_result"
    }
   ],
   "source": [
    "size"
   ]
  },
  {
   "cell_type": "code",
   "execution_count": 4,
   "id": "9861971a-abc6-4982-b8ed-10aa17cff6b4",
   "metadata": {},
   "outputs": [
    {
     "data": {
      "text/plain": [
       "<mpi4py.MPI.Intracomm at 0x1da75010810>"
      ]
     },
     "execution_count": 4,
     "metadata": {},
     "output_type": "execute_result"
    }
   ],
   "source": [
    "comm"
   ]
  },
  {
   "cell_type": "code",
   "execution_count": null,
   "id": "8a544969-461f-4a5e-9f40-8984edc2d271",
   "metadata": {},
   "outputs": [],
   "source": []
  }
 ],
 "metadata": {
  "kernelspec": {
   "display_name": "Python 3 (ipykernel)",
   "language": "python",
   "name": "python3"
  },
  "language_info": {
   "codemirror_mode": {
    "name": "ipython",
    "version": 3
   },
   "file_extension": ".py",
   "mimetype": "text/x-python",
   "name": "python",
   "nbconvert_exporter": "python",
   "pygments_lexer": "ipython3",
   "version": "3.9.12"
  }
 },
 "nbformat": 4,
 "nbformat_minor": 5
}
